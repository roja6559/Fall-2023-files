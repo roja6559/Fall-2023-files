{
  "cells": [
    {
      "cell_type": "markdown",
      "metadata": {},
      "source": [
        "# Monday, September 11\n",
        "## Announcements and Reminders\n",
        "- Chapter 5 Reading due today, but definitely by Wednesday\n",
        "- Programming Assignment 2: Available soon, due next Monday\n",
        "\n",
        "## Questions:"
      ]
    },
    {
      "cell_type": "markdown",
      "metadata": {},
      "source": []
    },
    {
      "cell_type": "markdown",
      "metadata": {
        "id": "rPcP5eWXAO1Y"
      },
      "source": [
        "## Activity: Turtles, Geometry, and Fractals\n",
        "\n",
        "We will continue using the python turtle to get visual feedback on how functions work.\n",
        "\n",
        "Our goal for today is to produce shapes like the following, without writing hundreds of lines of code.\n"
      ]
    },
    {
      "cell_type": "markdown",
      "metadata": {},
      "source": [
        "<!-- ![Spiral](spiral.png) -->\n",
        "<div>\n",
        "<img src=\"spiral.png\" width=\"800\"/>\n",
        "</div>"
      ]
    },
    {
      "cell_type": "markdown",
      "metadata": {
        "id": "u4mMqfI6ueCr"
      },
      "source": [
        "**Important**: I have found a better turtle module called `ColabTurtlePlus` that is easer to use than the `ipyturtle3` we were using last time.  \n",
        "\n",
        "Before you start executing any code, run the following command in the terminal:\n",
        "\n",
        "`pip install ColabTurtlePlus`\n",
        "\n",
        "Or, just execute the following cell in the notebook:"
      ]
    },
    {
      "cell_type": "code",
      "execution_count": 2,
      "metadata": {},
      "outputs": [
        {
          "name": "stdout",
          "output_type": "stream",
          "text": [
            "Requirement already satisfied: ColabTurtlePlus in /usr/local/python/3.10.8/lib/python3.10/site-packages (2.0.1)\n"
          ]
        }
      ],
      "source": [
        "!pip install ColabTurtlePlus"
      ]
    },
    {
      "cell_type": "markdown",
      "metadata": {},
      "source": [
        "We will create a turtle and screen to use throughout the activity.  Let's call our turtle \"Tracy\" this time.  Because clearly that is the best name for a turtle.  \n"
      ]
    },
    {
      "cell_type": "code",
      "execution_count": 21,
      "metadata": {},
      "outputs": [
        {
          "data": {
            "text/html": [
              "\n",
              "      <svg width=\"800\" height=\"600\">  \n",
              "        <rect width=\"100%\" height=\"100%\" style=\"fill:rgb(10,0,40);stroke:;stroke-width:1\"/>\n",
              "        \n",
              "        \n",
              "        \n",
              "        \n",
              "        \n",
              "        <g id=\"turtle\" visibility=\"visible\" transform=\"rotate(90,400.0,300.0) translate(400.0, 300.0)\">\n",
              "<path style=\"stroke:orange;fill-rule:evenodd;fill:orange;fill-opacity:1;\" transform=\"skewX(0) scale(1,1)\" d=\"m 1.1536693,-18.56101 c -2.105469,1.167969 -3.203125,3.441407 -3.140625,6.5 l 0.011719,0.519532 -0.300782,-0.15625 c -1.308594,-0.671875 -2.828125,-0.824219 -4.378906,-0.429688 -1.9375,0.484375 -3.8906253,2.089844 -6.0117193,4.9257825 -1.332031,1.785156 -1.714843,2.644531 -1.351562,3.035156 l 0.113281,0.125 h 0.363281 c 0.71875,0 1.308594,-0.265625 4.6679693,-2.113282 1.199219,-0.660156 2.183594,-1.199218 2.191406,-1.199218 0.00781,0 -0.023437,0.089844 -0.074218,0.195312 -0.472657,1.058594 -1.046876,2.785156 -1.335938,4.042969 -1.054688,4.574219 -0.351562,8.453125 2.101562,11.582031 0.28125,0.355469 0.292969,0.253906 -0.097656,0.722656 -2.046875,2.4609375 -3.027344,4.8984375 -2.734375,6.8046875 0.050781,0.339844 0.042969,0.335938 0.679688,0.335938 2.023437,0 4.15625,-1.316407 6.21875,-3.835938 0.222656,-0.269531 0.191406,-0.261719 0.425781,-0.113281 0.730469,0.46875 2.460938,1.390625 2.613281,1.390625 0.160157,0 1.765625,-0.753906 2.652344,-1.246094 0.167969,-0.09375 0.308594,-0.164062 0.308594,-0.160156 0.066406,0.105468 0.761719,0.855468 1.085937,1.171875 1.613282,1.570312 3.339844,2.402343 5.3593747,2.570312 0.324219,0.02734 0.355469,0.0078 0.425781,-0.316406 0.375,-1.742187 -0.382812,-4.058594 -2.1445307,-6.5585935 l -0.320312,-0.457031 0.15625,-0.183594 c 3.2460927,-3.824218 3.4335927,-9.08593704 0.558593,-15.816406 l -0.050781,-0.125 1.7382807,0.859375 c 3.585938,1.773437 4.371094,2.097656 5.085938,2.097656 0.945312,0 0.75,-0.863281 -0.558594,-2.507812 C 11.458356,-11.838353 8.3333563,-13.268041 4.8607003,-11.721166 l -0.363281,0.164063 0.019531,-0.09375 c 0.121094,-0.550781 0.183594,-1.800781 0.121094,-2.378907 -0.203125,-1.867187 -1.035157,-3.199218 -2.695313,-4.308593 -0.523437,-0.351563 -0.546875,-0.355469 -0.789062,-0.222657\" />\n",
              "</g>\n",
              "      </svg>\n",
              "    "
            ],
            "text/plain": [
              "<IPython.core.display.HTML object>"
            ]
          },
          "metadata": {},
          "output_type": "display_data"
        }
      ],
      "source": [
        "from ColabTurtlePlus.Turtle import *\n",
        "# Every time we want to have a new screen, we will use the following commands to create a new screen and a new turtle object:\n",
        "# Name the screen and turtle objects:\n",
        "clearscreen()\n",
        "Sandbox = Screen()\n",
        "Tracy = Turtle()\n",
        "# Set properties for Sandbox and Tracy\n",
        "Sandbox.bgcolor(10, 0, 40)\n",
        "Tracy.shape(\"turtle\")\n",
        "Tracy.color(\"orange\")"
      ]
    },
    {
      "cell_type": "markdown",
      "metadata": {},
      "source": [
        "Now let's draw a square.  First, the slow way:"
      ]
    },
    {
      "cell_type": "code",
      "execution_count": 22,
      "metadata": {},
      "outputs": [
        {
          "data": {
            "text/html": [
              "\n",
              "      <svg width=\"800\" height=\"600\">  \n",
              "        <rect width=\"100%\" height=\"100%\" style=\"fill:rgb(10,0,40);stroke:;stroke-width:1\"/>\n",
              "        \n",
              "        \n",
              "        <line x1=\"400.0\" y1=\"300.0\" x2=\"450.0\" y2=\"300.0\" stroke-linecap=\"round\" style=\"stroke:white;stroke-width:1\" /><line x1=\"450.0\" y1=\"300.0\" x2=\"492.063\" y2=\"272.968\" stroke-linecap=\"round\" style=\"stroke:white;stroke-width:1\" /><line x1=\"492.063\" y1=\"272.968\" x2=\"512.834\" y2=\"227.486\" stroke-linecap=\"round\" style=\"stroke:white;stroke-width:1\" /><line x1=\"512.834\" y1=\"227.486\" x2=\"505.718\" y2=\"177.995\" stroke-linecap=\"round\" style=\"stroke:white;stroke-width:1\" /><line x1=\"505.718\" y1=\"177.995\" x2=\"472.975\" y2=\"140.208\" stroke-linecap=\"round\" style=\"stroke:white;stroke-width:1\" /><line x1=\"472.975\" y1=\"140.208\" x2=\"425.0\" y2=\"126.121\" stroke-linecap=\"round\" style=\"stroke:white;stroke-width:1\" /><line x1=\"425.0\" y1=\"126.121\" x2=\"377.025\" y2=\"140.208\" stroke-linecap=\"round\" style=\"stroke:white;stroke-width:1\" /><line x1=\"377.025\" y1=\"140.208\" x2=\"344.282\" y2=\"177.995\" stroke-linecap=\"round\" style=\"stroke:white;stroke-width:1\" /><line x1=\"344.282\" y1=\"177.995\" x2=\"337.166\" y2=\"227.486\" stroke-linecap=\"round\" style=\"stroke:white;stroke-width:1\" /><line x1=\"337.166\" y1=\"227.486\" x2=\"357.937\" y2=\"272.968\" stroke-linecap=\"round\" style=\"stroke:white;stroke-width:1\" /><line x1=\"357.937\" y1=\"272.968\" x2=\"400.0\" y2=\"300.0\" stroke-linecap=\"round\" style=\"stroke:white;stroke-width:1\" />\n",
              "        \n",
              "        \n",
              "        <g id=\"turtle\" visibility=\"visible\" transform=\"rotate(122.72727272727272,400.0,300.0) translate(400.0, 300.0)\">\n",
              "<path style=\"stroke:white;fill-rule:evenodd;fill:white;fill-opacity:1;\" transform=\"skewX(0) scale(1,1)\" d=\"m 1.1536693,-18.56101 c -2.105469,1.167969 -3.203125,3.441407 -3.140625,6.5 l 0.011719,0.519532 -0.300782,-0.15625 c -1.308594,-0.671875 -2.828125,-0.824219 -4.378906,-0.429688 -1.9375,0.484375 -3.8906253,2.089844 -6.0117193,4.9257825 -1.332031,1.785156 -1.714843,2.644531 -1.351562,3.035156 l 0.113281,0.125 h 0.363281 c 0.71875,0 1.308594,-0.265625 4.6679693,-2.113282 1.199219,-0.660156 2.183594,-1.199218 2.191406,-1.199218 0.00781,0 -0.023437,0.089844 -0.074218,0.195312 -0.472657,1.058594 -1.046876,2.785156 -1.335938,4.042969 -1.054688,4.574219 -0.351562,8.453125 2.101562,11.582031 0.28125,0.355469 0.292969,0.253906 -0.097656,0.722656 -2.046875,2.4609375 -3.027344,4.8984375 -2.734375,6.8046875 0.050781,0.339844 0.042969,0.335938 0.679688,0.335938 2.023437,0 4.15625,-1.316407 6.21875,-3.835938 0.222656,-0.269531 0.191406,-0.261719 0.425781,-0.113281 0.730469,0.46875 2.460938,1.390625 2.613281,1.390625 0.160157,0 1.765625,-0.753906 2.652344,-1.246094 0.167969,-0.09375 0.308594,-0.164062 0.308594,-0.160156 0.066406,0.105468 0.761719,0.855468 1.085937,1.171875 1.613282,1.570312 3.339844,2.402343 5.3593747,2.570312 0.324219,0.02734 0.355469,0.0078 0.425781,-0.316406 0.375,-1.742187 -0.382812,-4.058594 -2.1445307,-6.5585935 l -0.320312,-0.457031 0.15625,-0.183594 c 3.2460927,-3.824218 3.4335927,-9.08593704 0.558593,-15.816406 l -0.050781,-0.125 1.7382807,0.859375 c 3.585938,1.773437 4.371094,2.097656 5.085938,2.097656 0.945312,0 0.75,-0.863281 -0.558594,-2.507812 C 11.458356,-11.838353 8.3333563,-13.268041 4.8607003,-11.721166 l -0.363281,0.164063 0.019531,-0.09375 c 0.121094,-0.550781 0.183594,-1.800781 0.121094,-2.378907 -0.203125,-1.867187 -1.035157,-3.199218 -2.695313,-4.308593 -0.523437,-0.351563 -0.546875,-0.355469 -0.789062,-0.222657\" />\n",
              "<animateTransform id = \"one\" attributeName=\"transform\" \n",
              "                      type=\"scale\"\n",
              "                      from=\"1 1\" to=\"1 1\"\n",
              "                      begin=\"0s\" dur=\"0.01s\"\n",
              "                      repeatCount=\"1\"\n",
              "                      additive=\"sum\"\n",
              "                      fill=\"freeze\"\n",
              "                /><animateTransform attributeName=\"transform\"\n",
              "                    type=\"rotate\"\n",
              "                    from=\"0 0 0\" to =\"-32.72727272727273 0 0\"\n",
              "                    begin=\"one.end\" dur=\"0.09090909090909091s\"\n",
              "                    repeatCount=\"1\"\n",
              "                    additive=\"sum\"\n",
              "                    fill=\"freeze\"\n",
              "                /></g>\n",
              "      </svg>\n",
              "    "
            ],
            "text/plain": [
              "<IPython.core.display.HTML object>"
            ]
          },
          "metadata": {},
          "output_type": "display_data"
        },
        {
          "name": "stdout",
          "output_type": "stream",
          "text": [
            "11\n"
          ]
        }
      ],
      "source": [
        "### SETUP ###\n",
        "clearscreen()\n",
        "Sandbox = Screen()\n",
        "Tracy = Turtle()\n",
        "Sandbox.bgcolor(10, 0, 40)\n",
        "Tracy.shape(\"turtle\")\n",
        "Tracy.color(\"white\")\n",
        "### END SETUP ###\n",
        "def walk_turn(times=0):\n",
        "    if(times == 11):\n",
        "        print(times)\n",
        "    else:\n",
        "        Tracy.forward(50)\n",
        "        Tracy.left(360/11)\n",
        "        walk_turn(times+1)\n",
        "    \n",
        "# Draw a square:\n",
        "walk_turn()"
      ]
    },
    {
      "cell_type": "markdown",
      "metadata": {},
      "source": [
        "Now try to modify the code above to draw the square using a function to avoid repeating as many identical lines of code.  Maybe define a function that combines the forward and turn steps.\n",
        "\n",
        "**Note**: If you know what they are, you might be tempted to use *loops* to make this simpler.  Hold that thought.  The goal of this activity is to use functions instead of loops."
      ]
    },
    {
      "cell_type": "markdown",
      "metadata": {},
      "source": [
        "### Recursion to the rescue\n",
        "\n",
        "Can we do even better?  A function tells Tracy what to do.  Can the function tell Tracy what to do next as well?  Try telling Tracy to walk, turn, and repeat."
      ]
    },
    {
      "cell_type": "code",
      "execution_count": null,
      "metadata": {},
      "outputs": [],
      "source": [
        "### SETUP ###\n",
        "clearscreen()\n",
        "Sandbox = Screen()\n",
        "Tracy = Turtle()\n",
        "Sandbox.bgcolor(10, 20, 0)\n",
        "Tracy.shape(\"turtle\")\n",
        "Tracy.color(\"orange\")\n",
        "### END SETUP ###\n",
        "\n",
        "def walk_turn(dist, ang):\n",
        "  pass\n",
        "  #Fill in the function\n",
        "\n",
        "#Call the function\n",
        "walk_turn(100,90)"
      ]
    },
    {
      "cell_type": "markdown",
      "metadata": {},
      "source": [
        "### Polygons\n",
        "\n",
        "The code above should be able to draw shapes other than squares.  How could you tell it to draw an octagon?\n",
        "\n",
        "Actually, why don't we just write a function `polygon(sides, size)` that draws a polygon with `sides` sides each of size `size`:"
      ]
    },
    {
      "cell_type": "code",
      "execution_count": 23,
      "metadata": {},
      "outputs": [
        {
          "data": {
            "text/html": [
              "\n",
              "      <svg width=\"800\" height=\"600\">  \n",
              "        <rect width=\"100%\" height=\"100%\" style=\"fill:rgb(10,20,20);stroke:;stroke-width:1\"/>\n",
              "        \n",
              "        \n",
              "        \n",
              "        \n",
              "        \n",
              "        <g id=\"turtle\" visibility=\"visible\" transform=\"rotate(90,400.0,300.0) translate(400.0, 300.0)\">\n",
              "<path style=\"stroke:orange;fill-rule:evenodd;fill:orange;fill-opacity:1;\" transform=\"skewX(0) scale(1,1)\" d=\"m 1.1536693,-18.56101 c -2.105469,1.167969 -3.203125,3.441407 -3.140625,6.5 l 0.011719,0.519532 -0.300782,-0.15625 c -1.308594,-0.671875 -2.828125,-0.824219 -4.378906,-0.429688 -1.9375,0.484375 -3.8906253,2.089844 -6.0117193,4.9257825 -1.332031,1.785156 -1.714843,2.644531 -1.351562,3.035156 l 0.113281,0.125 h 0.363281 c 0.71875,0 1.308594,-0.265625 4.6679693,-2.113282 1.199219,-0.660156 2.183594,-1.199218 2.191406,-1.199218 0.00781,0 -0.023437,0.089844 -0.074218,0.195312 -0.472657,1.058594 -1.046876,2.785156 -1.335938,4.042969 -1.054688,4.574219 -0.351562,8.453125 2.101562,11.582031 0.28125,0.355469 0.292969,0.253906 -0.097656,0.722656 -2.046875,2.4609375 -3.027344,4.8984375 -2.734375,6.8046875 0.050781,0.339844 0.042969,0.335938 0.679688,0.335938 2.023437,0 4.15625,-1.316407 6.21875,-3.835938 0.222656,-0.269531 0.191406,-0.261719 0.425781,-0.113281 0.730469,0.46875 2.460938,1.390625 2.613281,1.390625 0.160157,0 1.765625,-0.753906 2.652344,-1.246094 0.167969,-0.09375 0.308594,-0.164062 0.308594,-0.160156 0.066406,0.105468 0.761719,0.855468 1.085937,1.171875 1.613282,1.570312 3.339844,2.402343 5.3593747,2.570312 0.324219,0.02734 0.355469,0.0078 0.425781,-0.316406 0.375,-1.742187 -0.382812,-4.058594 -2.1445307,-6.5585935 l -0.320312,-0.457031 0.15625,-0.183594 c 3.2460927,-3.824218 3.4335927,-9.08593704 0.558593,-15.816406 l -0.050781,-0.125 1.7382807,0.859375 c 3.585938,1.773437 4.371094,2.097656 5.085938,2.097656 0.945312,0 0.75,-0.863281 -0.558594,-2.507812 C 11.458356,-11.838353 8.3333563,-13.268041 4.8607003,-11.721166 l -0.363281,0.164063 0.019531,-0.09375 c 0.121094,-0.550781 0.183594,-1.800781 0.121094,-2.378907 -0.203125,-1.867187 -1.035157,-3.199218 -2.695313,-4.308593 -0.523437,-0.351563 -0.546875,-0.355469 -0.789062,-0.222657\" />\n",
              "</g>\n",
              "      </svg>\n",
              "    "
            ],
            "text/plain": [
              "<IPython.core.display.HTML object>"
            ]
          },
          "metadata": {},
          "output_type": "display_data"
        }
      ],
      "source": [
        "### SETUP ###\n",
        "clearscreen()\n",
        "Sandbox = Screen()\n",
        "Tracy = Turtle()\n",
        "Sandbox.bgcolor(10, 20, 20)\n",
        "Tracy.shape(\"turtle\")\n",
        "Tracy.color(\"orange\")\n",
        "### END SETUP ###\n",
        "\n",
        "def polygon(sides, size):\n",
        "  pass\n",
        "  #Fill in the function\n",
        "\n",
        "#Call the function\n",
        "polygon(8, 75)"
      ]
    },
    {
      "cell_type": "markdown",
      "metadata": {},
      "source": [
        "Just for fun, see what happens if you modify `sides` or `size` when you tell Tracy to \"repeat\".  Could you draw a cool spiral?"
      ]
    },
    {
      "cell_type": "code",
      "execution_count": null,
      "metadata": {},
      "outputs": [],
      "source": [
        "### SETUP ###\n",
        "clearscreen()\n",
        "Sandbox = Screen()\n",
        "Tracy = Turtle()\n",
        "Sandbox.bgcolor(30, 10, 0)\n",
        "Tracy.shape(\"turtle\")\n",
        "Tracy.color(\"orange\")\n",
        "### END SETUP ###\n",
        "\n",
        "def spiral():\n",
        "  pass\n",
        "  #Fill in the function\n",
        "\n",
        "#Call the function\n",
        "spiral()"
      ]
    },
    {
      "cell_type": "markdown",
      "metadata": {},
      "source": [
        "### Fractals!\n",
        "\n",
        "Try executing the code below:"
      ]
    },
    {
      "cell_type": "code",
      "execution_count": 25,
      "metadata": {},
      "outputs": [
        {
          "data": {
            "text/html": [
              "\n",
              "      <svg width=\"800\" height=\"600\">  \n",
              "        <rect width=\"100%\" height=\"100%\" style=\"fill:rgb(14,81,53);stroke:;stroke-width:1\"/>\n",
              "        \n",
              "        \n",
              "        <line x1=\"250.0\" y1=\"400.0\" x2=\"287.5\" y2=\"400.0\" stroke-linecap=\"round\" style=\"stroke:rgb(212,206,70);stroke-width:1\" /><line x1=\"287.5\" y1=\"400.0\" x2=\"268.75\" y2=\"367.524\" stroke-linecap=\"round\" style=\"stroke:rgb(212,206,70);stroke-width:1\" /><line x1=\"268.75\" y1=\"367.524\" x2=\"250.0\" y2=\"400.0\" stroke-linecap=\"round\" style=\"stroke:rgb(212,206,70);stroke-width:1\" /><line x1=\"325.0\" y1=\"400.0\" x2=\"306.25\" y2=\"367.524\" stroke-linecap=\"round\" style=\"stroke:rgb(212,206,70);stroke-width:1\" /><line x1=\"306.25\" y1=\"367.524\" x2=\"287.5\" y2=\"400.0\" stroke-linecap=\"round\" style=\"stroke:rgb(212,206,70);stroke-width:1\" /><line x1=\"287.5\" y1=\"400.0\" x2=\"325.0\" y2=\"400.0\" stroke-linecap=\"round\" style=\"stroke:rgb(212,206,70);stroke-width:1\" /><line x1=\"287.5\" y1=\"335.048\" x2=\"268.75\" y2=\"367.524\" stroke-linecap=\"round\" style=\"stroke:rgb(212,206,70);stroke-width:1\" /><line x1=\"268.75\" y1=\"367.524\" x2=\"306.25\" y2=\"367.524\" stroke-linecap=\"round\" style=\"stroke:rgb(212,206,70);stroke-width:1\" /><line x1=\"306.25\" y1=\"367.524\" x2=\"287.5\" y2=\"335.048\" stroke-linecap=\"round\" style=\"stroke:rgb(212,206,70);stroke-width:1\" /><line x1=\"400.0\" y1=\"400.0\" x2=\"381.25\" y2=\"367.524\" stroke-linecap=\"round\" style=\"stroke:rgb(212,206,70);stroke-width:1\" /><line x1=\"381.25\" y1=\"367.524\" x2=\"362.5\" y2=\"400.0\" stroke-linecap=\"round\" style=\"stroke:rgb(212,206,70);stroke-width:1\" /><line x1=\"362.5\" y1=\"400.0\" x2=\"400.0\" y2=\"400.0\" stroke-linecap=\"round\" style=\"stroke:rgb(212,206,70);stroke-width:1\" /><line x1=\"362.5\" y1=\"335.048\" x2=\"343.75\" y2=\"367.524\" stroke-linecap=\"round\" style=\"stroke:rgb(212,206,70);stroke-width:1\" /><line x1=\"343.75\" y1=\"367.524\" x2=\"381.25\" y2=\"367.524\" stroke-linecap=\"round\" style=\"stroke:rgb(212,206,70);stroke-width:1\" /><line x1=\"381.25\" y1=\"367.524\" x2=\"362.5\" y2=\"335.048\" stroke-linecap=\"round\" style=\"stroke:rgb(212,206,70);stroke-width:1\" /><line x1=\"325.0\" y1=\"400.0\" x2=\"362.5\" y2=\"400.0\" stroke-linecap=\"round\" style=\"stroke:rgb(212,206,70);stroke-width:1\" /><line x1=\"362.5\" y1=\"400.0\" x2=\"343.75\" y2=\"367.524\" stroke-linecap=\"round\" style=\"stroke:rgb(212,206,70);stroke-width:1\" /><line x1=\"343.75\" y1=\"367.524\" x2=\"325.0\" y2=\"400.0\" stroke-linecap=\"round\" style=\"stroke:rgb(212,206,70);stroke-width:1\" /><line x1=\"325.0\" y1=\"270.096\" x2=\"306.25\" y2=\"302.572\" stroke-linecap=\"round\" style=\"stroke:rgb(212,206,70);stroke-width:1\" /><line x1=\"306.25\" y1=\"302.572\" x2=\"343.75\" y2=\"302.572\" stroke-linecap=\"round\" style=\"stroke:rgb(212,206,70);stroke-width:1\" /><line x1=\"343.75\" y1=\"302.572\" x2=\"325.0\" y2=\"270.096\" stroke-linecap=\"round\" style=\"stroke:rgb(212,206,70);stroke-width:1\" /><line x1=\"287.5\" y1=\"335.048\" x2=\"325.0\" y2=\"335.048\" stroke-linecap=\"round\" style=\"stroke:rgb(212,206,70);stroke-width:1\" /><line x1=\"325.0\" y1=\"335.048\" x2=\"306.25\" y2=\"302.572\" stroke-linecap=\"round\" style=\"stroke:rgb(212,206,70);stroke-width:1\" /><line x1=\"306.25\" y1=\"302.572\" x2=\"287.5\" y2=\"335.048\" stroke-linecap=\"round\" style=\"stroke:rgb(212,206,70);stroke-width:1\" /><line x1=\"362.5\" y1=\"335.048\" x2=\"343.75\" y2=\"302.572\" stroke-linecap=\"round\" style=\"stroke:rgb(212,206,70);stroke-width:1\" /><line x1=\"343.75\" y1=\"302.572\" x2=\"325.0\" y2=\"335.048\" stroke-linecap=\"round\" style=\"stroke:rgb(212,206,70);stroke-width:1\" /><line x1=\"325.0\" y1=\"335.048\" x2=\"362.5\" y2=\"335.048\" stroke-linecap=\"round\" style=\"stroke:rgb(212,206,70);stroke-width:1\" /><line x1=\"550.0\" y1=\"400.0\" x2=\"531.25\" y2=\"367.524\" stroke-linecap=\"round\" style=\"stroke:rgb(212,206,70);stroke-width:1\" /><line x1=\"531.25\" y1=\"367.524\" x2=\"512.5\" y2=\"400.0\" stroke-linecap=\"round\" style=\"stroke:rgb(212,206,70);stroke-width:1\" /><line x1=\"512.5\" y1=\"400.0\" x2=\"550.0\" y2=\"400.0\" stroke-linecap=\"round\" style=\"stroke:rgb(212,206,70);stroke-width:1\" /><line x1=\"512.5\" y1=\"335.048\" x2=\"493.75\" y2=\"367.524\" stroke-linecap=\"round\" style=\"stroke:rgb(212,206,70);stroke-width:1\" /><line x1=\"493.75\" y1=\"367.524\" x2=\"531.25\" y2=\"367.524\" stroke-linecap=\"round\" style=\"stroke:rgb(212,206,70);stroke-width:1\" /><line x1=\"531.25\" y1=\"367.524\" x2=\"512.5\" y2=\"335.048\" stroke-linecap=\"round\" style=\"stroke:rgb(212,206,70);stroke-width:1\" /><line x1=\"475.0\" y1=\"400.0\" x2=\"512.5\" y2=\"400.0\" stroke-linecap=\"round\" style=\"stroke:rgb(212,206,70);stroke-width:1\" /><line x1=\"512.5\" y1=\"400.0\" x2=\"493.75\" y2=\"367.524\" stroke-linecap=\"round\" style=\"stroke:rgb(212,206,70);stroke-width:1\" /><line x1=\"493.75\" y1=\"367.524\" x2=\"475.0\" y2=\"400.0\" stroke-linecap=\"round\" style=\"stroke:rgb(212,206,70);stroke-width:1\" /><line x1=\"475.0\" y1=\"270.096\" x2=\"456.25\" y2=\"302.572\" stroke-linecap=\"round\" style=\"stroke:rgb(212,206,70);stroke-width:1\" /><line x1=\"456.25\" y1=\"302.572\" x2=\"493.75\" y2=\"302.572\" stroke-linecap=\"round\" style=\"stroke:rgb(212,206,70);stroke-width:1\" /><line x1=\"493.75\" y1=\"302.572\" x2=\"475.0\" y2=\"270.096\" stroke-linecap=\"round\" style=\"stroke:rgb(212,206,70);stroke-width:1\" /><line x1=\"437.5\" y1=\"335.048\" x2=\"475.0\" y2=\"335.048\" stroke-linecap=\"round\" style=\"stroke:rgb(212,206,70);stroke-width:1\" /><line x1=\"475.0\" y1=\"335.048\" x2=\"456.25\" y2=\"302.572\" stroke-linecap=\"round\" style=\"stroke:rgb(212,206,70);stroke-width:1\" /><line x1=\"456.25\" y1=\"302.572\" x2=\"437.5\" y2=\"335.048\" stroke-linecap=\"round\" style=\"stroke:rgb(212,206,70);stroke-width:1\" /><line x1=\"512.5\" y1=\"335.048\" x2=\"493.75\" y2=\"302.572\" stroke-linecap=\"round\" style=\"stroke:rgb(212,206,70);stroke-width:1\" /><line x1=\"493.75\" y1=\"302.572\" x2=\"475.0\" y2=\"335.048\" stroke-linecap=\"round\" style=\"stroke:rgb(212,206,70);stroke-width:1\" /><line x1=\"475.0\" y1=\"335.048\" x2=\"512.5\" y2=\"335.048\" stroke-linecap=\"round\" style=\"stroke:rgb(212,206,70);stroke-width:1\" /><line x1=\"400.0\" y1=\"400.0\" x2=\"437.5\" y2=\"400.0\" stroke-linecap=\"round\" style=\"stroke:rgb(212,206,70);stroke-width:1\" /><line x1=\"437.5\" y1=\"400.0\" x2=\"418.75\" y2=\"367.524\" stroke-linecap=\"round\" style=\"stroke:rgb(212,206,70);stroke-width:1\" /><line x1=\"418.75\" y1=\"367.524\" x2=\"400.0\" y2=\"400.0\" stroke-linecap=\"round\" style=\"stroke:rgb(212,206,70);stroke-width:1\" /><line x1=\"475.0\" y1=\"400.0\" x2=\"456.25\" y2=\"367.524\" stroke-linecap=\"round\" style=\"stroke:rgb(212,206,70);stroke-width:1\" /><line x1=\"456.25\" y1=\"367.524\" x2=\"437.5\" y2=\"400.0\" stroke-linecap=\"round\" style=\"stroke:rgb(212,206,70);stroke-width:1\" /><line x1=\"437.5\" y1=\"400.0\" x2=\"475.0\" y2=\"400.0\" stroke-linecap=\"round\" style=\"stroke:rgb(212,206,70);stroke-width:1\" /><line x1=\"437.5\" y1=\"335.048\" x2=\"418.75\" y2=\"367.524\" stroke-linecap=\"round\" style=\"stroke:rgb(212,206,70);stroke-width:1\" /><line x1=\"418.75\" y1=\"367.524\" x2=\"456.25\" y2=\"367.524\" stroke-linecap=\"round\" style=\"stroke:rgb(212,206,70);stroke-width:1\" /><line x1=\"456.25\" y1=\"367.524\" x2=\"437.5\" y2=\"335.048\" stroke-linecap=\"round\" style=\"stroke:rgb(212,206,70);stroke-width:1\" /><line x1=\"400.0\" y1=\"140.192\" x2=\"381.25\" y2=\"172.668\" stroke-linecap=\"round\" style=\"stroke:rgb(212,206,70);stroke-width:1\" /><line x1=\"381.25\" y1=\"172.668\" x2=\"418.75\" y2=\"172.668\" stroke-linecap=\"round\" style=\"stroke:rgb(212,206,70);stroke-width:1\" /><line x1=\"418.75\" y1=\"172.668\" x2=\"400.0\" y2=\"140.192\" stroke-linecap=\"round\" style=\"stroke:rgb(212,206,70);stroke-width:1\" /><line x1=\"362.5\" y1=\"205.144\" x2=\"400.0\" y2=\"205.144\" stroke-linecap=\"round\" style=\"stroke:rgb(212,206,70);stroke-width:1\" /><line x1=\"400.0\" y1=\"205.144\" x2=\"381.25\" y2=\"172.668\" stroke-linecap=\"round\" style=\"stroke:rgb(212,206,70);stroke-width:1\" /><line x1=\"381.25\" y1=\"172.668\" x2=\"362.5\" y2=\"205.144\" stroke-linecap=\"round\" style=\"stroke:rgb(212,206,70);stroke-width:1\" /><line x1=\"437.5\" y1=\"205.144\" x2=\"418.75\" y2=\"172.668\" stroke-linecap=\"round\" style=\"stroke:rgb(212,206,70);stroke-width:1\" /><line x1=\"418.75\" y1=\"172.668\" x2=\"400.0\" y2=\"205.144\" stroke-linecap=\"round\" style=\"stroke:rgb(212,206,70);stroke-width:1\" /><line x1=\"400.0\" y1=\"205.144\" x2=\"437.5\" y2=\"205.144\" stroke-linecap=\"round\" style=\"stroke:rgb(212,206,70);stroke-width:1\" /><line x1=\"325.0\" y1=\"270.096\" x2=\"362.5\" y2=\"270.096\" stroke-linecap=\"round\" style=\"stroke:rgb(212,206,70);stroke-width:1\" /><line x1=\"362.5\" y1=\"270.096\" x2=\"343.75\" y2=\"237.62\" stroke-linecap=\"round\" style=\"stroke:rgb(212,206,70);stroke-width:1\" /><line x1=\"343.75\" y1=\"237.62\" x2=\"325.0\" y2=\"270.096\" stroke-linecap=\"round\" style=\"stroke:rgb(212,206,70);stroke-width:1\" /><line x1=\"400.0\" y1=\"270.096\" x2=\"381.25\" y2=\"237.62\" stroke-linecap=\"round\" style=\"stroke:rgb(212,206,70);stroke-width:1\" /><line x1=\"381.25\" y1=\"237.62\" x2=\"362.5\" y2=\"270.096\" stroke-linecap=\"round\" style=\"stroke:rgb(212,206,70);stroke-width:1\" /><line x1=\"362.5\" y1=\"270.096\" x2=\"400.0\" y2=\"270.096\" stroke-linecap=\"round\" style=\"stroke:rgb(212,206,70);stroke-width:1\" /><line x1=\"362.5\" y1=\"205.144\" x2=\"343.75\" y2=\"237.62\" stroke-linecap=\"round\" style=\"stroke:rgb(212,206,70);stroke-width:1\" /><line x1=\"343.75\" y1=\"237.62\" x2=\"381.25\" y2=\"237.62\" stroke-linecap=\"round\" style=\"stroke:rgb(212,206,70);stroke-width:1\" /><line x1=\"381.25\" y1=\"237.62\" x2=\"362.5\" y2=\"205.144\" stroke-linecap=\"round\" style=\"stroke:rgb(212,206,70);stroke-width:1\" /><line x1=\"475.0\" y1=\"270.096\" x2=\"456.25\" y2=\"237.62\" stroke-linecap=\"round\" style=\"stroke:rgb(212,206,70);stroke-width:1\" /><line x1=\"456.25\" y1=\"237.62\" x2=\"437.5\" y2=\"270.096\" stroke-linecap=\"round\" style=\"stroke:rgb(212,206,70);stroke-width:1\" /><line x1=\"437.5\" y1=\"270.096\" x2=\"475.0\" y2=\"270.096\" stroke-linecap=\"round\" style=\"stroke:rgb(212,206,70);stroke-width:1\" /><line x1=\"437.5\" y1=\"205.144\" x2=\"418.75\" y2=\"237.62\" stroke-linecap=\"round\" style=\"stroke:rgb(212,206,70);stroke-width:1\" /><line x1=\"418.75\" y1=\"237.62\" x2=\"456.25\" y2=\"237.62\" stroke-linecap=\"round\" style=\"stroke:rgb(212,206,70);stroke-width:1\" /><line x1=\"456.25\" y1=\"237.62\" x2=\"437.5\" y2=\"205.144\" stroke-linecap=\"round\" style=\"stroke:rgb(212,206,70);stroke-width:1\" /><line x1=\"400.0\" y1=\"270.096\" x2=\"437.5\" y2=\"270.096\" stroke-linecap=\"round\" style=\"stroke:rgb(212,206,70);stroke-width:1\" /><line x1=\"437.5\" y1=\"270.096\" x2=\"418.75\" y2=\"237.62\" stroke-linecap=\"round\" style=\"stroke:rgb(212,206,70);stroke-width:1\" /><line x1=\"418.75\" y1=\"237.62\" x2=\"400.0\" y2=\"270.096\" stroke-linecap=\"round\" style=\"stroke:rgb(212,206,70);stroke-width:1\" />\n",
              "        \n",
              "        \n",
              "        <g id=\"triangle\" visibility=\"visible\" transform=\"rotate(30,250.0,400.0) translate(250.0, 400.0)\">\n",
              "<polygon points=\"10,-8.66 0,8.66 -10,-8.66\" transform=\"skewX(0) scale(1,1)\" style=\"stroke:rgb(212,206,70);fill:rgb(212,206,70);stroke-width:1\" />\n",
              "<animateTransform id = \"one\" attributeName=\"transform\" \n",
              "                      type=\"scale\"\n",
              "                      from=\"1 1\" to=\"1 1\"\n",
              "                      begin=\"0s\" dur=\"0.01s\"\n",
              "                      repeatCount=\"1\"\n",
              "                      additive=\"sum\"\n",
              "                      fill=\"freeze\"\n",
              "                /><animateTransform attributeName=\"transform\"\n",
              "                    type=\"rotate\"\n",
              "                    from=\"0 0 0\" to =\"-120 0 0\"\n",
              "                    begin=\"one.end\" dur=\"0.006666666666666666s\"\n",
              "                    repeatCount=\"1\"\n",
              "                    additive=\"sum\"\n",
              "                    fill=\"freeze\"\n",
              "                /></g>\n",
              "      </svg>\n",
              "    "
            ],
            "text/plain": [
              "<IPython.core.display.HTML object>"
            ]
          },
          "metadata": {},
          "output_type": "display_data"
        }
      ],
      "source": [
        "### SETUP ###\n",
        "clearscreen()\n",
        "Sandbox = Screen()\n",
        "Tracy = Turtle()\n",
        "Sandbox.bgcolor(14,81,53)\n",
        "Tracy.shape(\"triangle\")\n",
        "Tracy.color(212,206,70)\n",
        "### END SETUP ###\n",
        "\n",
        "Tracy.speed(100)\n",
        "def triangle(sidelength, sidecount=0):\n",
        "  if sidecount < 3:\n",
        "    Tracy.pendown()\n",
        "    Tracy.forward(sidelength)\n",
        "    Tracy.left(120)\n",
        "    triangle(sidelength, sidecount+1)\n",
        "\n",
        "def triforce(size,depth,counter=0):\n",
        "  if counter < depth:\n",
        "    triforce(size/2, depth, counter+1)\n",
        "    Tracy.penup()\n",
        "    Tracy.forward(size*2)\n",
        "    Tracy.left(120)\n",
        "    triforce(size/2, depth, counter+1)\n",
        "    Tracy.penup()\n",
        "    Tracy.forward(size*2)\n",
        "    Tracy.left(120)\n",
        "    triforce(size/2, depth, counter+1)\n",
        "    Tracy.penup()\n",
        "    Tracy.forward(size*2)\n",
        "    Tracy.left(120)\n",
        "  else:\n",
        "    triangle(size*2)\n",
        "\n",
        "\n",
        "#change start position to center image\n",
        "Tracy.penup()\n",
        "Tracy.goto(-150,-100)\n",
        "triforce(150,3)"
      ]
    },
    {
      "cell_type": "markdown",
      "metadata": {},
      "source": [
        "Part of what makes the code above complicated is that we are calling the function recursively three times inside itself. To see what is going on better, let's look at one that only calls itself once each time through."
      ]
    },
    {
      "cell_type": "code",
      "execution_count": 24,
      "metadata": {},
      "outputs": [
        {
          "data": {
            "text/html": [
              "\n",
              "      <svg width=\"800\" height=\"600\">  \n",
              "        <rect width=\"100%\" height=\"100%\" style=\"fill:rgb(0,0,0);stroke:;stroke-width:1\"/>\n",
              "        \n",
              "        \n",
              "        <path d=\"M 400.0 300.0 A 12.5 12.5 0 0 0 412.5 287.5\" stroke-linecap=\"round\" \n",
              "            fill=\"transparent\" fill-opacity=\"0\" style=\"stroke:pink;stroke-width:1\"/><path d=\"M 412.5 287.5 A 12.5 12.5 0 0 0 387.5 287.5\" stroke-linecap=\"round\" \n",
              "            fill=\"transparent\" fill-opacity=\"0\" style=\"stroke:pink;stroke-width:1\"/><path d=\"M 387.5 287.5 A 12.5 12.5 0 0 0 412.5 287.5\" stroke-linecap=\"round\" \n",
              "            fill=\"transparent\" fill-opacity=\"0\" style=\"stroke:pink;stroke-width:1\"/><path d=\"M 412.5 287.5 A 25.0 25.0 0 0 0 387.5 262.5\" stroke-linecap=\"round\" \n",
              "            fill=\"transparent\" fill-opacity=\"0\" style=\"stroke:pink;stroke-width:1\"/><path d=\"M 387.5 262.5 A 25.0 25.0 0 0 0 387.5 312.5\" stroke-linecap=\"round\" \n",
              "            fill=\"transparent\" fill-opacity=\"0\" style=\"stroke:pink;stroke-width:1\"/><path d=\"M 387.5 312.5 A 25.0 25.0 0 0 0 387.5 262.5\" stroke-linecap=\"round\" \n",
              "            fill=\"transparent\" fill-opacity=\"0\" style=\"stroke:pink;stroke-width:1\"/><path d=\"M 387.5 262.5 A 50.0 50.0 0 0 0 337.5 312.5\" stroke-linecap=\"round\" \n",
              "            fill=\"transparent\" fill-opacity=\"0\" style=\"stroke:pink;stroke-width:1\"/><path d=\"M 337.5 312.5 A 50.0 50.0 0 0 0 437.5 312.5\" stroke-linecap=\"round\" \n",
              "            fill=\"transparent\" fill-opacity=\"0\" style=\"stroke:pink;stroke-width:1\"/><path d=\"M 437.5 312.5 A 50.0 50.0 0 0 0 337.5 312.5\" stroke-linecap=\"round\" \n",
              "            fill=\"transparent\" fill-opacity=\"0\" style=\"stroke:pink;stroke-width:1\"/><path d=\"M 337.5 312.5 A 100.0 100.0 0 0 0 437.5 412.5\" stroke-linecap=\"round\" \n",
              "            fill=\"transparent\" fill-opacity=\"0\" style=\"stroke:pink;stroke-width:1\"/><path d=\"M 437.5 412.5 A 100.0 100.0 0 0 0 437.5 212.5\" stroke-linecap=\"round\" \n",
              "            fill=\"transparent\" fill-opacity=\"0\" style=\"stroke:pink;stroke-width:1\"/><path d=\"M 437.5 212.5 A 100.0 100.0 0 0 0 437.5 412.5\" stroke-linecap=\"round\" \n",
              "            fill=\"transparent\" fill-opacity=\"0\" style=\"stroke:pink;stroke-width:1\"/><path d=\"M 437.5 412.5 A 200 200 0 0 0 637.5 212.5\" stroke-linecap=\"round\" \n",
              "            fill=\"transparent\" fill-opacity=\"0\" style=\"stroke:pink;stroke-width:1\"/><path d=\"M 637.5 212.5 A 200 200 0 0 0 630.685 160.736\" stroke-linecap=\"round\" \n",
              "            fill=\"transparent\" fill-opacity=\"0\" style=\"stroke:pink;stroke-width:1\"/><path d=\"M 630.685 160.736 A 200 200 0 0 0 610.705 112.5\" stroke-linecap=\"round\" \n",
              "            fill=\"transparent\" fill-opacity=\"0\" style=\"stroke:pink;stroke-width:1\"/><path d=\"M 610.705 112.5 A 200 200 0 0 0 578.921 71.079\" stroke-linecap=\"round\" \n",
              "            fill=\"transparent\" fill-opacity=\"0\" style=\"stroke:pink;stroke-width:1\"/><path d=\"M 578.921 71.079 A 200 200 0 0 0 537.5 39.295\" stroke-linecap=\"round\" \n",
              "            fill=\"transparent\" fill-opacity=\"0\" style=\"stroke:pink;stroke-width:1\"/><path d=\"M 537.5 39.295 A 200 200 0 0 0 489.264 19.315\" stroke-linecap=\"round\" \n",
              "            fill=\"transparent\" fill-opacity=\"0\" style=\"stroke:pink;stroke-width:1\"/><path d=\"M 489.264 19.315 A 200 200 0 0 0 437.5 12.5\" stroke-linecap=\"round\" \n",
              "            fill=\"transparent\" fill-opacity=\"0\" style=\"stroke:pink;stroke-width:1\"/><path d=\"M 437.5 12.5 A 200 200 0 0 0 385.736 19.315\" stroke-linecap=\"round\" \n",
              "            fill=\"transparent\" fill-opacity=\"0\" style=\"stroke:pink;stroke-width:1\"/><path d=\"M 385.736 19.315 A 200 200 0 0 0 337.5 39.295\" stroke-linecap=\"round\" \n",
              "            fill=\"transparent\" fill-opacity=\"0\" style=\"stroke:pink;stroke-width:1\"/><path d=\"M 337.5 39.295 A 200 200 0 0 0 296.079 71.079\" stroke-linecap=\"round\" \n",
              "            fill=\"transparent\" fill-opacity=\"0\" style=\"stroke:pink;stroke-width:1\"/><path d=\"M 296.079 71.079 A 200 200 0 0 0 264.295 112.5\" stroke-linecap=\"round\" \n",
              "            fill=\"transparent\" fill-opacity=\"0\" style=\"stroke:pink;stroke-width:1\"/><path d=\"M 264.295 112.5 A 200 200 0 0 0 244.315 160.736\" stroke-linecap=\"round\" \n",
              "            fill=\"transparent\" fill-opacity=\"0\" style=\"stroke:pink;stroke-width:1\"/><path d=\"M 244.315 160.736 A 200 200 0 0 0 237.5 212.5\" stroke-linecap=\"round\" \n",
              "            fill=\"transparent\" fill-opacity=\"0\" style=\"stroke:pink;stroke-width:1\"/><path d=\"M 237.5 212.5 A 200 200 0 0 0 244.315 264.264\" stroke-linecap=\"round\" \n",
              "            fill=\"transparent\" fill-opacity=\"0\" style=\"stroke:pink;stroke-width:1\"/><path d=\"M 244.315 264.264 A 200 200 0 0 0 264.295 312.5\" stroke-linecap=\"round\" \n",
              "            fill=\"transparent\" fill-opacity=\"0\" style=\"stroke:pink;stroke-width:1\"/><path d=\"M 264.295 312.5 A 200 200 0 0 0 296.079 353.921\" stroke-linecap=\"round\" \n",
              "            fill=\"transparent\" fill-opacity=\"0\" style=\"stroke:pink;stroke-width:1\"/><path d=\"M 296.079 353.921 A 200 200 0 0 0 337.5 385.705\" stroke-linecap=\"round\" \n",
              "            fill=\"transparent\" fill-opacity=\"0\" style=\"stroke:pink;stroke-width:1\"/><path d=\"M 337.5 385.705 A 200 200 0 0 0 385.736 405.685\" stroke-linecap=\"round\" \n",
              "            fill=\"transparent\" fill-opacity=\"0\" style=\"stroke:pink;stroke-width:1\"/><path d=\"M 385.736 405.685 A 200 200 0 0 0 437.5 412.5\" stroke-linecap=\"round\" \n",
              "            fill=\"transparent\" fill-opacity=\"0\" style=\"stroke:pink;stroke-width:1\"/><path d=\"M 437.5 412.5 A 200 200 0 0 0 489.264 405.685\" stroke-linecap=\"round\" \n",
              "            fill=\"transparent\" fill-opacity=\"0\" style=\"stroke:pink;stroke-width:1\"/><path d=\"M 489.264 405.685 A 200 200 0 0 0 537.5 385.705\" stroke-linecap=\"round\" \n",
              "            fill=\"transparent\" fill-opacity=\"0\" style=\"stroke:pink;stroke-width:1\"/><path d=\"M 537.5 385.705 A 200 200 0 0 0 578.921 353.921\" stroke-linecap=\"round\" \n",
              "            fill=\"transparent\" fill-opacity=\"0\" style=\"stroke:pink;stroke-width:1\"/><path d=\"M 578.921 353.921 A 200 200 0 0 0 610.705 312.5\" stroke-linecap=\"round\" \n",
              "            fill=\"transparent\" fill-opacity=\"0\" style=\"stroke:pink;stroke-width:1\"/><path d=\"M 610.705 312.5 A 200 200 0 0 0 630.685 264.264\" stroke-linecap=\"round\" \n",
              "            fill=\"transparent\" fill-opacity=\"0\" style=\"stroke:pink;stroke-width:1\"/><path d=\"M 630.685 264.264 A 200 200 0 0 0 637.5 212.5\" stroke-linecap=\"round\" \n",
              "            fill=\"transparent\" fill-opacity=\"0\" style=\"stroke:pink;stroke-width:1\"/>\n",
              "        \n",
              "        \n",
              "        <g id=\"turtle\" visibility=\"visible\" transform=\"rotate(360.0,637.5,212.5) translate(637.5, 212.5)\">\n",
              "<path style=\"stroke:pink;fill-rule:evenodd;fill:pink;fill-opacity:1;\" transform=\"skewX(0) scale(1,1)\" d=\"m 1.1536693,-18.56101 c -2.105469,1.167969 -3.203125,3.441407 -3.140625,6.5 l 0.011719,0.519532 -0.300782,-0.15625 c -1.308594,-0.671875 -2.828125,-0.824219 -4.378906,-0.429688 -1.9375,0.484375 -3.8906253,2.089844 -6.0117193,4.9257825 -1.332031,1.785156 -1.714843,2.644531 -1.351562,3.035156 l 0.113281,0.125 h 0.363281 c 0.71875,0 1.308594,-0.265625 4.6679693,-2.113282 1.199219,-0.660156 2.183594,-1.199218 2.191406,-1.199218 0.00781,0 -0.023437,0.089844 -0.074218,0.195312 -0.472657,1.058594 -1.046876,2.785156 -1.335938,4.042969 -1.054688,4.574219 -0.351562,8.453125 2.101562,11.582031 0.28125,0.355469 0.292969,0.253906 -0.097656,0.722656 -2.046875,2.4609375 -3.027344,4.8984375 -2.734375,6.8046875 0.050781,0.339844 0.042969,0.335938 0.679688,0.335938 2.023437,0 4.15625,-1.316407 6.21875,-3.835938 0.222656,-0.269531 0.191406,-0.261719 0.425781,-0.113281 0.730469,0.46875 2.460938,1.390625 2.613281,1.390625 0.160157,0 1.765625,-0.753906 2.652344,-1.246094 0.167969,-0.09375 0.308594,-0.164062 0.308594,-0.160156 0.066406,0.105468 0.761719,0.855468 1.085937,1.171875 1.613282,1.570312 3.339844,2.402343 5.3593747,2.570312 0.324219,0.02734 0.355469,0.0078 0.425781,-0.316406 0.375,-1.742187 -0.382812,-4.058594 -2.1445307,-6.5585935 l -0.320312,-0.457031 0.15625,-0.183594 c 3.2460927,-3.824218 3.4335927,-9.08593704 0.558593,-15.816406 l -0.050781,-0.125 1.7382807,0.859375 c 3.585938,1.773437 4.371094,2.097656 5.085938,2.097656 0.945312,0 0.75,-0.863281 -0.558594,-2.507812 C 11.458356,-11.838353 8.3333563,-13.268041 4.8607003,-11.721166 l -0.363281,0.164063 0.019531,-0.09375 c 0.121094,-0.550781 0.183594,-1.800781 0.121094,-2.378907 -0.203125,-1.867187 -1.035157,-3.199218 -2.695313,-4.308593 -0.523437,-0.351563 -0.546875,-0.355469 -0.789062,-0.222657\" />\n",
              "</g>\n",
              "      </svg>\n",
              "    "
            ],
            "text/plain": [
              "<IPython.core.display.HTML object>"
            ]
          },
          "metadata": {},
          "output_type": "display_data"
        }
      ],
      "source": [
        "### SETUP ###\n",
        "clearscreen()\n",
        "Sandbox = Screen()\n",
        "Tracy = Turtle()\n",
        "Sandbox.bgcolor(0, 0, 0)\n",
        "Tracy.shape(\"turtle\")\n",
        "Tracy.color(\"pink\")\n",
        "### END SETUP ###\n",
        "\n",
        "Tracy.speed(10)\n",
        "def circles(size, depth, counter=0):\n",
        "  if counter < depth:\n",
        "    circles(0.5*size, depth, counter+1)\n",
        "    # \"stamp\" so we can see where the circle starts\n",
        "    # Tracy.stamp()\n",
        "    # Move start to a quarter way around a circle\n",
        "    Tracy.circle(size,90)\n",
        "    # Draw a circle\n",
        "    Tracy.circle(size)\n",
        "\n",
        "\n",
        "circles(200,5)"
      ]
    },
    {
      "cell_type": "markdown",
      "metadata": {},
      "source": [
        "## What's next?  \n",
        "\n",
        "Let's add a little color.  Can we write a function that colors the sides of a polygon with three colors, repeating in sequence?  How can we control that?"
      ]
    }
  ],
  "metadata": {
    "colab": {
      "include_colab_link": true,
      "provenance": []
    },
    "kernelspec": {
      "display_name": "Python 3",
      "name": "python3"
    },
    "language_info": {
      "codemirror_mode": {
        "name": "ipython",
        "version": 3
      },
      "file_extension": ".py",
      "mimetype": "text/x-python",
      "name": "python",
      "nbconvert_exporter": "python",
      "pygments_lexer": "ipython3",
      "version": "3.10.8"
    }
  },
  "nbformat": 4,
  "nbformat_minor": 0
}
